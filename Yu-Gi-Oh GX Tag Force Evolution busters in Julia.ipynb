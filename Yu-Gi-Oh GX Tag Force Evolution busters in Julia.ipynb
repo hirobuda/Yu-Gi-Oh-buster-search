{
 "cells": [
  {
   "cell_type": "code",
   "execution_count": 75,
   "id": "bec17ad2",
   "metadata": {},
   "outputs": [],
   "source": [
    "using DataFrames\n",
    "using DelimitedFiles"
   ]
  },
  {
   "cell_type": "code",
   "execution_count": 61,
   "id": "bc49fae5",
   "metadata": {},
   "outputs": [
    {
     "data": {
      "text/html": [
       "<div class=\"data-frame\"><p>2,325 rows × 3 columns</p><table class=\"data-frame\"><thead><tr><th></th><th>Card</th><th>Buster</th><th>Rarity</th></tr><tr><th></th><th title=\"String\">String</th><th title=\"String\">String</th><th title=\"String\">String</th></tr></thead><tbody><tr><th>1</th><td>Blue-Eyes White Dragon</td><td>First Monster</td><td>Ultra Rare</td></tr><tr><th>2</th><td>Dark Magician</td><td>First Monster</td><td>Ultra Rare</td></tr><tr><th>3</th><td>Red-Eyes B. Dragon</td><td>First Monster</td><td>Ultra Rare</td></tr><tr><th>4</th><td>Summoned Skull</td><td>First Monster</td><td>Ultra Rare</td></tr><tr><th>5</th><td>D.D. Trainer</td><td>First Monster</td><td>Super Rare</td></tr><tr><th>6</th><td>Gaia the Fierce Knight</td><td>First Monster</td><td>Super Rare</td></tr><tr><th>7</th><td>Giant Soldier of Stone</td><td>First Monster</td><td>Super Rare</td></tr><tr><th>8</th><td>Gogiga Gagagigo</td><td>First Monster</td><td>Super Rare</td></tr><tr><th>9</th><td>Millennium Shield</td><td>First Monster</td><td>Super Rare</td></tr><tr><th>10</th><td>Neo Aqua Matador</td><td>First Monster</td><td>Super Rare</td></tr><tr><th>11</th><td>Oppressed People</td><td>First Monster</td><td>Super Rare</td></tr><tr><th>12</th><td>Acrobat Monkey</td><td>First Monster</td><td>Rare</td></tr><tr><th>13</th><td>Aqua Matador</td><td>First Monster</td><td>Rare</td></tr><tr><th>14</th><td>Curse of Dragon</td><td>First Monster</td><td>Rare</td></tr><tr><th>15</th><td>Earthbound Spirit</td><td>First Monster</td><td>Rare</td></tr><tr><th>16</th><td>Inapchi</td><td>First Monster</td><td>Rare</td></tr><tr><th>17</th><td>Island Turtle</td><td>First Monster</td><td>Rare</td></tr><tr><th>18</th><td>People Running About</td><td>First Monster</td><td>Rare</td></tr><tr><th>19</th><td>Prevent Rat</td><td>First Monster</td><td>Rare</td></tr><tr><th>20</th><td>Skull Dog Marron</td><td>First Monster</td><td>Rare</td></tr><tr><th>21</th><td>United Resistance</td><td>First Monster</td><td>Rare</td></tr><tr><th>22</th><td>Ushi Oni</td><td>First Monster</td><td>Rare</td></tr><tr><th>23</th><td>Ancient Jar</td><td>First Monster</td><td>Common</td></tr><tr><th>24</th><td>Ancient Lizard Warrior</td><td>First Monster</td><td>Common</td></tr><tr><th>25</th><td>Ancient Tree of Enlightenment</td><td>First Monster</td><td>Common</td></tr><tr><th>26</th><td>Bean Soldier</td><td>First Monster</td><td>Common</td></tr><tr><th>27</th><td>Beaver Warrior</td><td>First Monster</td><td>Common</td></tr><tr><th>28</th><td>Big Insect</td><td>First Monster</td><td>Common</td></tr><tr><th>29</th><td>Blocker</td><td>First Monster</td><td>Common</td></tr><tr><th>30</th><td>Bone Mouse</td><td>First Monster</td><td>Common</td></tr><tr><th>&vellip;</th><td>&vellip;</td><td>&vellip;</td><td>&vellip;</td></tr></tbody></table></div>"
      ],
      "text/latex": [
       "\\begin{tabular}{r|ccc}\n",
       "\t& Card & Buster & Rarity\\\\\n",
       "\t\\hline\n",
       "\t& String & String & String\\\\\n",
       "\t\\hline\n",
       "\t1 & Blue-Eyes White Dragon & First Monster & Ultra Rare \\\\\n",
       "\t2 & Dark Magician & First Monster & Ultra Rare \\\\\n",
       "\t3 & Red-Eyes B. Dragon & First Monster & Ultra Rare \\\\\n",
       "\t4 & Summoned Skull & First Monster & Ultra Rare \\\\\n",
       "\t5 & D.D. Trainer & First Monster & Super Rare \\\\\n",
       "\t6 & Gaia the Fierce Knight & First Monster & Super Rare \\\\\n",
       "\t7 & Giant Soldier of Stone & First Monster & Super Rare \\\\\n",
       "\t8 & Gogiga Gagagigo & First Monster & Super Rare \\\\\n",
       "\t9 & Millennium Shield & First Monster & Super Rare \\\\\n",
       "\t10 & Neo Aqua Matador & First Monster & Super Rare \\\\\n",
       "\t11 & Oppressed People & First Monster & Super Rare \\\\\n",
       "\t12 & Acrobat Monkey & First Monster & Rare \\\\\n",
       "\t13 & Aqua Matador & First Monster & Rare \\\\\n",
       "\t14 & Curse of Dragon & First Monster & Rare \\\\\n",
       "\t15 & Earthbound Spirit & First Monster & Rare \\\\\n",
       "\t16 & Inapchi & First Monster & Rare \\\\\n",
       "\t17 & Island Turtle & First Monster & Rare \\\\\n",
       "\t18 & People Running About & First Monster & Rare \\\\\n",
       "\t19 & Prevent Rat & First Monster & Rare \\\\\n",
       "\t20 & Skull Dog Marron & First Monster & Rare \\\\\n",
       "\t21 & United Resistance & First Monster & Rare \\\\\n",
       "\t22 & Ushi Oni & First Monster & Rare \\\\\n",
       "\t23 & Ancient Jar & First Monster & Common \\\\\n",
       "\t24 & Ancient Lizard Warrior & First Monster & Common \\\\\n",
       "\t25 & Ancient Tree of Enlightenment & First Monster & Common \\\\\n",
       "\t26 & Bean Soldier & First Monster & Common \\\\\n",
       "\t27 & Beaver Warrior & First Monster & Common \\\\\n",
       "\t28 & Big Insect & First Monster & Common \\\\\n",
       "\t29 & Blocker & First Monster & Common \\\\\n",
       "\t30 & Bone Mouse & First Monster & Common \\\\\n",
       "\t$\\dots$ & $\\dots$ & $\\dots$ & $\\dots$ \\\\\n",
       "\\end{tabular}\n"
      ],
      "text/plain": [
       "\u001b[1m2325×3 DataFrame\u001b[0m\n",
       "\u001b[1m  Row \u001b[0m│\u001b[1m Card                        \u001b[0m\u001b[1m Buster                     \u001b[0m\u001b[1m Rarity     \u001b[0m\n",
       "\u001b[1m      \u001b[0m│\u001b[90m String                      \u001b[0m\u001b[90m String                     \u001b[0m\u001b[90m String     \u001b[0m\n",
       "──────┼─────────────────────────────────────────────────────────────────────\n",
       "    1 │ Blue-Eyes White Dragon       First Monster               Ultra Rare\n",
       "    2 │ Dark Magician                First Monster               Ultra Rare\n",
       "    3 │ Red-Eyes B. Dragon           First Monster               Ultra Rare\n",
       "    4 │ Summoned Skull               First Monster               Ultra Rare\n",
       "    5 │ D.D. Trainer                 First Monster               Super Rare\n",
       "    6 │ Gaia the Fierce Knight       First Monster               Super Rare\n",
       "    7 │ Giant Soldier of Stone       First Monster               Super Rare\n",
       "    8 │ Gogiga Gagagigo              First Monster               Super Rare\n",
       "    9 │ Millennium Shield            First Monster               Super Rare\n",
       "   10 │ Neo Aqua Matador             First Monster               Super Rare\n",
       "   11 │ Oppressed People             First Monster               Super Rare\n",
       "  ⋮   │              ⋮                           ⋮                   ⋮\n",
       " 2316 │ Jar Robber                   Double Triple Destiny Draw  Common\n",
       " 2317 │ Masked Sorcerer              Double Triple Destiny Draw  Common\n",
       " 2318 │ Mind Wipe                    Double Triple Destiny Draw  Common\n",
       " 2319 │ Molten Zombie                Double Triple Destiny Draw  Common\n",
       " 2320 │ Monster Recovery             Double Triple Destiny Draw  Common\n",
       " 2321 │ Necklace of Command          Double Triple Destiny Draw  Common\n",
       " 2322 │ Penalty Game!                Double Triple Destiny Draw  Common\n",
       " 2323 │ Precious Cards from Beyond   Double Triple Destiny Draw  Common\n",
       " 2324 │ Sacred Crane                 Double Triple Destiny Draw  Common\n",
       " 2325 │ Spirit of the Pot of Greede  Double Triple Destiny Draw  Common\n",
       "\u001b[36m                                                           2304 rows omitted\u001b[0m"
      ]
     },
     "execution_count": 61,
     "metadata": {},
     "output_type": "execute_result"
    }
   ],
   "source": [
    "#open the csv with the cards and respective buster and rarity\n",
    "df = DataFrame(readdlm(\"busters.csv\", ',', String), [:Card, :Buster, :Rarity, :None])\n",
    "select!(df, Not(:None))"
   ]
  },
  {
   "cell_type": "code",
   "execution_count": 66,
   "id": "fa3ad668",
   "metadata": {},
   "outputs": [
    {
     "data": {
      "text/plain": [
       "which_buster (generic function with 1 method)"
      ]
     },
     "execution_count": 66,
     "metadata": {},
     "output_type": "execute_result"
    }
   ],
   "source": [
    "#simple search function\n",
    "function which_buster(card)\n",
    "    deck = DataFrame(Card = String[], Buster = String[], Rarity = String[])\n",
    "    for i = df[!,\"Card\"]\n",
    "        for j = card\n",
    "            #ignores special characters\n",
    "            if occursin(replace(lowercase(i), r\"-\"=>s\" \"), replace(lowercase(j), r\"-\"=>s\" \")) || occursin(replace(lowercase(j), r\"-\"=>s\" \"),replace(lowercase(i), r\"-\"=>s\" \"))\n",
    "                append!(deck, df[findall(==(i), df.Card), :])\n",
    "            end\n",
    "        end\n",
    "    end\n",
    "    \n",
    "    return sort!(deck, :Buster)\n",
    "end"
   ]
  },
  {
   "cell_type": "code",
   "execution_count": 79,
   "id": "4e902187",
   "metadata": {},
   "outputs": [
    {
     "data": {
      "text/html": [
       "<div class=\"data-frame\"><p>112 rows × 3 columns</p><table class=\"data-frame\"><thead><tr><th></th><th>Card</th><th>Buster</th><th>Rarity</th></tr><tr><th></th><th title=\"String\">String</th><th title=\"String\">String</th><th title=\"String\">String</th></tr></thead><tbody><tr><th>1</th><td>Winged Dragon</td><td> Guardian of the Fortress #1</td><td>Step Up Fusion</td></tr><tr><th>2</th><td>Winged Dragon</td><td> Guardian of the Fortress #1</td><td>Step Up Fusion</td></tr><tr><th>3</th><td>Winged Dragon</td><td> Guardian of the Fortress #2</td><td>Gift of Wind</td></tr><tr><th>4</th><td>Winged Dragon</td><td> Guardian of the Fortress #2</td><td>Gift of Wind</td></tr><tr><th>5</th><td>Fusilier Dragon</td><td> the Dual-Mode Beast</td><td>Visitor from the Dark</td></tr><tr><th>6</th><td>Fiend Skull Dragon</td><td>Anti Effect</td><td>Super Rare</td></tr><tr><th>7</th><td>Tyrant Dragon</td><td>Anti Effect</td><td>Super Rare</td></tr><tr><th>8</th><td>Berserk Dragon</td><td>Cold Skin</td><td>Super Rare</td></tr><tr><th>9</th><td>Dragon&apos;s Mirror</td><td>Dragon Drive</td><td>Ultra Rare</td></tr><tr><th>10</th><td>Masked Dragon</td><td>Dragon Drive</td><td>Super Rare</td></tr><tr><th>11</th><td>Master of Dragon Soldier</td><td>Dragon Drive</td><td>Super Rare</td></tr><tr><th>12</th><td>Meteor B. Dragon</td><td>Dragon Drive</td><td>Super Rare</td></tr><tr><th>13</th><td>Mirage Dragon</td><td>Dragon Drive</td><td>Super Rare</td></tr><tr><th>14</th><td>Axe Dragonute</td><td>Dragon Drive</td><td>Rare</td></tr><tr><th>15</th><td>Blue-Eyes Shining Dragon</td><td>Dragon Drive</td><td>Rare</td></tr><tr><th>16</th><td>Dragon&apos;s Rage</td><td>Dragon Drive</td><td>Rare</td></tr><tr><th>17</th><td>Red-Eyes Darkness Dragon</td><td>Dragon Drive</td><td>Rare</td></tr><tr><th>18</th><td>The Dragon Dwelling in the Cave</td><td>Dragon Drive</td><td>Rare</td></tr><tr><th>19</th><td>Troop Dragon</td><td>Dragon Drive</td><td>Rare</td></tr><tr><th>20</th><td>A Wingbeat of Giant Dragon</td><td>Dragon Drive</td><td>Common</td></tr><tr><th>21</th><td>B. Dragon Jungle King</td><td>Dragon Drive</td><td>Common</td></tr><tr><th>22</th><td>B. Skull Dragon</td><td>Dragon Drive</td><td>Common</td></tr><tr><th>23</th><td>Cave Dragon</td><td>Dragon Drive</td><td>Common</td></tr><tr><th>24</th><td>Crawling Dragon</td><td>Dragon Drive</td><td>Common</td></tr><tr><th>25</th><td>Divine Dragon -- Excelion</td><td>Dragon Drive</td><td>Common</td></tr><tr><th>26</th><td>Dragon Capture Jar</td><td>Dragon Drive</td><td>Common</td></tr><tr><th>27</th><td>Dragon Manipulator</td><td>Dragon Drive</td><td>Common</td></tr><tr><th>28</th><td>Dragon Piper</td><td>Dragon Drive</td><td>Common</td></tr><tr><th>29</th><td>Dragon Seeker</td><td>Dragon Drive</td><td>Common</td></tr><tr><th>30</th><td>Dragon Treasure</td><td>Dragon Drive</td><td>Common</td></tr><tr><th>&vellip;</th><td>&vellip;</td><td>&vellip;</td><td>&vellip;</td></tr></tbody></table></div>"
      ],
      "text/latex": [
       "\\begin{tabular}{r|ccc}\n",
       "\t& Card & Buster & Rarity\\\\\n",
       "\t\\hline\n",
       "\t& String & String & String\\\\\n",
       "\t\\hline\n",
       "\t1 & Winged Dragon &  Guardian of the Fortress \\#1 & Step Up Fusion \\\\\n",
       "\t2 & Winged Dragon &  Guardian of the Fortress \\#1 & Step Up Fusion \\\\\n",
       "\t3 & Winged Dragon &  Guardian of the Fortress \\#2 & Gift of Wind \\\\\n",
       "\t4 & Winged Dragon &  Guardian of the Fortress \\#2 & Gift of Wind \\\\\n",
       "\t5 & Fusilier Dragon &  the Dual-Mode Beast & Visitor from the Dark \\\\\n",
       "\t6 & Fiend Skull Dragon & Anti Effect & Super Rare \\\\\n",
       "\t7 & Tyrant Dragon & Anti Effect & Super Rare \\\\\n",
       "\t8 & Berserk Dragon & Cold Skin & Super Rare \\\\\n",
       "\t9 & Dragon's Mirror & Dragon Drive & Ultra Rare \\\\\n",
       "\t10 & Masked Dragon & Dragon Drive & Super Rare \\\\\n",
       "\t11 & Master of Dragon Soldier & Dragon Drive & Super Rare \\\\\n",
       "\t12 & Meteor B. Dragon & Dragon Drive & Super Rare \\\\\n",
       "\t13 & Mirage Dragon & Dragon Drive & Super Rare \\\\\n",
       "\t14 & Axe Dragonute & Dragon Drive & Rare \\\\\n",
       "\t15 & Blue-Eyes Shining Dragon & Dragon Drive & Rare \\\\\n",
       "\t16 & Dragon's Rage & Dragon Drive & Rare \\\\\n",
       "\t17 & Red-Eyes Darkness Dragon & Dragon Drive & Rare \\\\\n",
       "\t18 & The Dragon Dwelling in the Cave & Dragon Drive & Rare \\\\\n",
       "\t19 & Troop Dragon & Dragon Drive & Rare \\\\\n",
       "\t20 & A Wingbeat of Giant Dragon & Dragon Drive & Common \\\\\n",
       "\t21 & B. Dragon Jungle King & Dragon Drive & Common \\\\\n",
       "\t22 & B. Skull Dragon & Dragon Drive & Common \\\\\n",
       "\t23 & Cave Dragon & Dragon Drive & Common \\\\\n",
       "\t24 & Crawling Dragon & Dragon Drive & Common \\\\\n",
       "\t25 & Divine Dragon -- Excelion & Dragon Drive & Common \\\\\n",
       "\t26 & Dragon Capture Jar & Dragon Drive & Common \\\\\n",
       "\t27 & Dragon Manipulator & Dragon Drive & Common \\\\\n",
       "\t28 & Dragon Piper & Dragon Drive & Common \\\\\n",
       "\t29 & Dragon Seeker & Dragon Drive & Common \\\\\n",
       "\t30 & Dragon Treasure & Dragon Drive & Common \\\\\n",
       "\t$\\dots$ & $\\dots$ & $\\dots$ & $\\dots$ \\\\\n",
       "\\end{tabular}\n"
      ],
      "text/plain": [
       "\u001b[1m112×3 DataFrame\u001b[0m\n",
       "\u001b[1m Row \u001b[0m│\u001b[1m Card                              \u001b[0m\u001b[1m Buster                       \u001b[0m\u001b[1m Rarity\u001b[0m ⋯\n",
       "\u001b[1m     \u001b[0m│\u001b[90m String                            \u001b[0m\u001b[90m String                       \u001b[0m\u001b[90m String\u001b[0m ⋯\n",
       "─────┼──────────────────────────────────────────────────────────────────────────\n",
       "   1 │ Winged Dragon                       Guardian of the Fortress #1  Step U ⋯\n",
       "   2 │ Winged Dragon                       Guardian of the Fortress #1  Step U\n",
       "   3 │ Winged Dragon                       Guardian of the Fortress #2  Gift o\n",
       "   4 │ Winged Dragon                       Guardian of the Fortress #2  Gift o\n",
       "   5 │ Fusilier Dragon                     the Dual-Mode Beast          Visito ⋯\n",
       "   6 │ Fiend Skull Dragon                 Anti Effect                   Super\n",
       "   7 │ Tyrant Dragon                      Anti Effect                   Super\n",
       "   8 │ Berserk Dragon                     Cold Skin                     Super\n",
       "   9 │ Dragon's Mirror                    Dragon Drive                  Ultra  ⋯\n",
       "  10 │ Masked Dragon                      Dragon Drive                  Super\n",
       "  11 │ Master of Dragon Soldier           Dragon Drive                  Super\n",
       "  ⋮  │                 ⋮                               ⋮                       ⋱\n",
       " 103 │ Barrel Dragon                      Technology Master             Rare\n",
       " 104 │ Cyber Laser Dragon                 Technology Master             Rare   ⋯\n",
       " 105 │ Gatling Dragon                     Technology Master             Rare\n",
       " 106 │ Cyber Barrier Dragon               Technology Master             Common\n",
       " 107 │ Dragon Statue                      Vanilla Gloom                 Common\n",
       " 108 │ Koumori Dragon                     Visitor from the Dark         Common ⋯\n",
       " 109 │ Water Dragon                       Warrior’s Pyramid             Ultra\n",
       " 110 │ Levia-Dragon -- Daedalus           Water of Life                 Ultra\n",
       " 111 │ Ocean Dragon Lord -- Neo-Daedalus  Water of Life                 Rare\n",
       " 112 │ Chimeratech Overdragon             Wave of the Future            Ultra  ⋯\n",
       "\u001b[36m                                                    1 column and 91 rows omitted\u001b[0m"
      ]
     },
     "execution_count": 79,
     "metadata": {},
     "output_type": "execute_result"
    }
   ],
   "source": [
    "#search by a part of the name\n",
    "which_buster([\"Dragon\"])"
   ]
  },
  {
   "cell_type": "code",
   "execution_count": 77,
   "id": "3f731a50",
   "metadata": {},
   "outputs": [
    {
     "data": {
      "text/html": [
       "<div class=\"data-frame\"><p>21 rows × 3 columns</p><table class=\"data-frame\"><thead><tr><th></th><th>Card</th><th>Buster</th><th>Rarity</th></tr><tr><th></th><th title=\"String\">String</th><th title=\"String\">String</th><th title=\"String\">String</th></tr></thead><tbody><tr><th>1</th><td>Breaker the Magical Warrior</td><td>Approach the Hotties</td><td>Ultra Rare</td></tr><tr><th>2</th><td>Stamping Destruction</td><td>Dragon Drive</td><td>Super Rare</td></tr><tr><th>3</th><td>Twin-Headed Behemoth</td><td>Dragon Drive</td><td>Rare</td></tr><tr><th>4</th><td>Premature Burial</td><td>Equip Me</td><td>Ultra Rare</td></tr><tr><th>5</th><td>Kaibaman</td><td>First Effect Monster</td><td>Ultra Rare</td></tr><tr><th>6</th><td>D.D. Warrior</td><td>First Effect Monster</td><td>Super Rare</td></tr><tr><th>7</th><td>Magician of Faith</td><td>Flip the Picture</td><td>Super Rare</td></tr><tr><th>8</th><td>Magic Cylinder</td><td>Go Go Direct</td><td>Ultra Rare</td></tr><tr><th>9</th><td>Mirror Force</td><td>Good Ol Days</td><td>Ultra Rare</td></tr><tr><th>10</th><td>Ring of Destruction</td><td>Good Ol Days</td><td>Rare</td></tr><tr><th>11</th><td>D.D. Warrior Lady</td><td>Mainden’s Heartbeat</td><td>Ultra Rare</td></tr><tr><th>12</th><td>Freed the Brave Wanderer</td><td>Platinum Light</td><td>Super Rare</td></tr><tr><th>13</th><td>Burst Stream of Destruction</td><td>Princeton Power</td><td>Super Rare</td></tr><tr><th>14</th><td>Luster Dragon</td><td>Princeton Power</td><td>Rare</td></tr><tr><th>15</th><td>Luster Dragon #2</td><td>Princeton Power</td><td>Rare</td></tr><tr><th>16</th><td>Manju of the Ten Thousand Hands</td><td>Ritual Dance</td><td>Super Rare</td></tr><tr><th>17</th><td>White Dragon Ritual</td><td>Ritual Dance</td><td>Common</td></tr><tr><th>18</th><td>Soul Resurrection</td><td>Step Up Spell-Trap</td><td>Super Rare</td></tr><tr><th>19</th><td>Dark Mirror Force</td><td>Step Up Spell-Trap</td><td>Rare</td></tr><tr><th>20</th><td>United We Stand</td><td>Tag Survivor</td><td>Ultra Rare</td></tr><tr><th>21</th><td>Brain Control</td><td>Tag Survivor</td><td>Super Rare</td></tr></tbody></table></div>"
      ],
      "text/latex": [
       "\\begin{tabular}{r|ccc}\n",
       "\t& Card & Buster & Rarity\\\\\n",
       "\t\\hline\n",
       "\t& String & String & String\\\\\n",
       "\t\\hline\n",
       "\t1 & Breaker the Magical Warrior & Approach the Hotties & Ultra Rare \\\\\n",
       "\t2 & Stamping Destruction & Dragon Drive & Super Rare \\\\\n",
       "\t3 & Twin-Headed Behemoth & Dragon Drive & Rare \\\\\n",
       "\t4 & Premature Burial & Equip Me & Ultra Rare \\\\\n",
       "\t5 & Kaibaman & First Effect Monster & Ultra Rare \\\\\n",
       "\t6 & D.D. Warrior & First Effect Monster & Super Rare \\\\\n",
       "\t7 & Magician of Faith & Flip the Picture & Super Rare \\\\\n",
       "\t8 & Magic Cylinder & Go Go Direct & Ultra Rare \\\\\n",
       "\t9 & Mirror Force & Good Ol Days & Ultra Rare \\\\\n",
       "\t10 & Ring of Destruction & Good Ol Days & Rare \\\\\n",
       "\t11 & D.D. Warrior Lady & Mainden’s Heartbeat & Ultra Rare \\\\\n",
       "\t12 & Freed the Brave Wanderer & Platinum Light & Super Rare \\\\\n",
       "\t13 & Burst Stream of Destruction & Princeton Power & Super Rare \\\\\n",
       "\t14 & Luster Dragon & Princeton Power & Rare \\\\\n",
       "\t15 & Luster Dragon \\#2 & Princeton Power & Rare \\\\\n",
       "\t16 & Manju of the Ten Thousand Hands & Ritual Dance & Super Rare \\\\\n",
       "\t17 & White Dragon Ritual & Ritual Dance & Common \\\\\n",
       "\t18 & Soul Resurrection & Step Up Spell-Trap & Super Rare \\\\\n",
       "\t19 & Dark Mirror Force & Step Up Spell-Trap & Rare \\\\\n",
       "\t20 & United We Stand & Tag Survivor & Ultra Rare \\\\\n",
       "\t21 & Brain Control & Tag Survivor & Super Rare \\\\\n",
       "\\end{tabular}\n"
      ],
      "text/plain": [
       "\u001b[1m21×3 DataFrame\u001b[0m\n",
       "\u001b[1m Row \u001b[0m│\u001b[1m Card                            \u001b[0m\u001b[1m Buster               \u001b[0m\u001b[1m Rarity     \u001b[0m\n",
       "\u001b[1m     \u001b[0m│\u001b[90m String                          \u001b[0m\u001b[90m String               \u001b[0m\u001b[90m String     \u001b[0m\n",
       "─────┼───────────────────────────────────────────────────────────────────\n",
       "   1 │ Breaker the Magical Warrior      Approach the Hotties  Ultra Rare\n",
       "   2 │ Stamping Destruction             Dragon Drive          Super Rare\n",
       "   3 │ Twin-Headed Behemoth             Dragon Drive          Rare\n",
       "   4 │ Premature Burial                 Equip Me              Ultra Rare\n",
       "   5 │ Kaibaman                         First Effect Monster  Ultra Rare\n",
       "   6 │ D.D. Warrior                     First Effect Monster  Super Rare\n",
       "   7 │ Magician of Faith                Flip the Picture      Super Rare\n",
       "   8 │ Magic Cylinder                   Go Go Direct          Ultra Rare\n",
       "   9 │ Mirror Force                     Good Ol Days          Ultra Rare\n",
       "  10 │ Ring of Destruction              Good Ol Days          Rare\n",
       "  11 │ D.D. Warrior Lady                Mainden’s Heartbeat   Ultra Rare\n",
       "  12 │ Freed the Brave Wanderer         Platinum Light        Super Rare\n",
       "  13 │ Burst Stream of Destruction      Princeton Power       Super Rare\n",
       "  14 │ Luster Dragon                    Princeton Power       Rare\n",
       "  15 │ Luster Dragon #2                 Princeton Power       Rare\n",
       "  16 │ Manju of the Ten Thousand Hands  Ritual Dance          Super Rare\n",
       "  17 │ White Dragon Ritual              Ritual Dance          Common\n",
       "  18 │ Soul Resurrection                Step Up Spell-Trap    Super Rare\n",
       "  19 │ Dark Mirror Force                Step Up Spell-Trap    Rare\n",
       "  20 │ United We Stand                  Tag Survivor          Ultra Rare\n",
       "  21 │ Brain Control                    Tag Survivor          Super Rare"
      ]
     },
     "execution_count": 77,
     "metadata": {},
     "output_type": "execute_result"
    }
   ],
   "source": [
    "# search for a whole deck\n",
    "deck = [\n",
    "    \"Luster Dragon\", \"Breaker the Magical Warrior\", \"D.D. Warrior Lady\", \"Freed the Brave Wanderer\", \"Kaibaman\", \"Magician of Faith\", \"Manju of the Ten Thousand Hands\", \"Twin-headed Behemoth\", \"Paladin of the White Dragon\", \"Brain Control\", \"Burst Stream of Destruction\", \"Graceful Charity\", \"Premature Burial\", \"Scape Goat\", \"Stamping Destruction\", \"United We Stand\", \"White Dragon Ritual\", \"Magic Cylinder\", \"Mirror Force\", \"Ring of Destruction\", \"Soul Resurrection\"\n",
    "]\n",
    "\n",
    "which_buster(deck)"
   ]
  },
  {
   "cell_type": "code",
   "execution_count": 76,
   "id": "73b9665e",
   "metadata": {},
   "outputs": [
    {
     "data": {
      "text/html": [
       "<p>DataFrameRow (3 columns)</p><div class=\"data-frame\"><table class=\"data-frame\"><thead><tr><th></th><th>Card</th><th>Buster</th><th>Rarity</th></tr><tr><th></th><th title=\"String\">String</th><th title=\"String\">String</th><th title=\"String\">String</th></tr></thead><tbody><tr><th>1</th><td>Luster Dragon</td><td>Princeton Power</td><td>Rare</td></tr></tbody></table></div>"
      ],
      "text/latex": [
       "\\begin{tabular}{r|ccc}\n",
       "\t& Card & Buster & Rarity\\\\\n",
       "\t\\hline\n",
       "\t& String & String & String\\\\\n",
       "\t\\hline\n",
       "\t1 & Luster Dragon & Princeton Power & Rare \\\\\n",
       "\\end{tabular}\n"
      ],
      "text/plain": [
       "\u001b[1mDataFrameRow\u001b[0m\n",
       "\u001b[1m Row \u001b[0m│\u001b[1m Card          \u001b[0m\u001b[1m Buster          \u001b[0m\u001b[1m Rarity \u001b[0m\n",
       "\u001b[1m     \u001b[0m│\u001b[90m String        \u001b[0m\u001b[90m String          \u001b[0m\u001b[90m String \u001b[0m\n",
       "─────┼────────────────────────────────────────\n",
       "   1 │ Luster Dragon  Princeton Power  Rare"
      ]
     },
     "execution_count": 76,
     "metadata": {},
     "output_type": "execute_result"
    }
   ],
   "source": [
    "# exact name\n",
    "df[findall(==(\"Luster Dragon\"), df.Card), :][1,:]"
   ]
  }
 ],
 "metadata": {
  "kernelspec": {
   "display_name": "Julia 1.7.0",
   "language": "julia",
   "name": "julia-1.7"
  },
  "language_info": {
   "file_extension": ".jl",
   "mimetype": "application/julia",
   "name": "julia",
   "version": "1.7.2"
  }
 },
 "nbformat": 4,
 "nbformat_minor": 5
}
